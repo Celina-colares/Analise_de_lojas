{
  "nbformat": 4,
  "nbformat_minor": 0,
  "metadata": {
    "colab": {
      "provenance": [],
      "include_colab_link": true
    },
    "kernelspec": {
      "name": "python3",
      "display_name": "Python 3"
    },
    "language_info": {
      "name": "python"
    }
  },
  "cells": [
    {
      "cell_type": "markdown",
      "metadata": {
        "id": "view-in-github",
        "colab_type": "text"
      },
      "source": [
        "<a href=\"https://colab.research.google.com/github/Celina-colares/Celina-colares/blob/main/AluraStoreBr.ipynb\" target=\"_parent\"><img src=\"https://colab.research.google.com/assets/colab-badge.svg\" alt=\"Open In Colab\"/></a>"
      ]
    },
    {
      "cell_type": "markdown",
      "source": [
        "### Importação dos dados\n",
        "\n"
      ],
      "metadata": {
        "id": "RhEdWd9YUR6H"
      }
    },
    {
      "cell_type": "code",
      "execution_count": null,
      "metadata": {
        "colab": {
          "base_uri": "https://localhost:8080/",
          "height": 365
        },
        "id": "T3EvaeQ_INIL",
        "outputId": "b9e5a902-cf4d-4bac-dbfd-c9c71a9f7d76"
      },
      "outputs": [
        {
          "output_type": "execute_result",
          "data": {
            "text/plain": [
              "                 Produto Categoria do Produto    Preço      Frete  \\\n",
              "0     Assistente virtual          eletronicos   219.08   9.249790   \n",
              "1         Mesa de jantar               moveis   256.35  11.234305   \n",
              "2      Jogo de tabuleiro           brinquedos   279.51  21.262681   \n",
              "3            Micro-ondas     eletrodomesticos  1009.99  54.667344   \n",
              "4  Cadeira de escritório               moveis   446.99  26.964689   \n",
              "\n",
              "  Data da Compra        Vendedor Local da compra  Avaliação da compra  \\\n",
              "0     16/01/2021     Pedro Gomes              SP                    4   \n",
              "1     18/05/2022  Beatriz Moraes              RJ                    1   \n",
              "2     15/03/2021      João Souza              DF                    1   \n",
              "3     03/05/2022      João Souza              RS                    4   \n",
              "4     07/11/2020   Larissa Alves              MG                    5   \n",
              "\n",
              "  Tipo de pagamento  Quantidade de parcelas    lat    lon  \n",
              "0    cartao_credito                       8 -22.19 -48.79  \n",
              "1    cartao_credito                       4 -22.25 -42.66  \n",
              "2    cartao_credito                       1 -15.83 -47.86  \n",
              "3            boleto                       1 -30.17 -53.50  \n",
              "4            boleto                       1 -18.10 -44.38  "
            ],
            "text/html": [
              "\n",
              "  <div id=\"df-bee21f79-ad97-4fbb-97ab-8811fccd268e\" class=\"colab-df-container\">\n",
              "    <div>\n",
              "<style scoped>\n",
              "    .dataframe tbody tr th:only-of-type {\n",
              "        vertical-align: middle;\n",
              "    }\n",
              "\n",
              "    .dataframe tbody tr th {\n",
              "        vertical-align: top;\n",
              "    }\n",
              "\n",
              "    .dataframe thead th {\n",
              "        text-align: right;\n",
              "    }\n",
              "</style>\n",
              "<table border=\"1\" class=\"dataframe\">\n",
              "  <thead>\n",
              "    <tr style=\"text-align: right;\">\n",
              "      <th></th>\n",
              "      <th>Produto</th>\n",
              "      <th>Categoria do Produto</th>\n",
              "      <th>Preço</th>\n",
              "      <th>Frete</th>\n",
              "      <th>Data da Compra</th>\n",
              "      <th>Vendedor</th>\n",
              "      <th>Local da compra</th>\n",
              "      <th>Avaliação da compra</th>\n",
              "      <th>Tipo de pagamento</th>\n",
              "      <th>Quantidade de parcelas</th>\n",
              "      <th>lat</th>\n",
              "      <th>lon</th>\n",
              "    </tr>\n",
              "  </thead>\n",
              "  <tbody>\n",
              "    <tr>\n",
              "      <th>0</th>\n",
              "      <td>Assistente virtual</td>\n",
              "      <td>eletronicos</td>\n",
              "      <td>219.08</td>\n",
              "      <td>9.249790</td>\n",
              "      <td>16/01/2021</td>\n",
              "      <td>Pedro Gomes</td>\n",
              "      <td>SP</td>\n",
              "      <td>4</td>\n",
              "      <td>cartao_credito</td>\n",
              "      <td>8</td>\n",
              "      <td>-22.19</td>\n",
              "      <td>-48.79</td>\n",
              "    </tr>\n",
              "    <tr>\n",
              "      <th>1</th>\n",
              "      <td>Mesa de jantar</td>\n",
              "      <td>moveis</td>\n",
              "      <td>256.35</td>\n",
              "      <td>11.234305</td>\n",
              "      <td>18/05/2022</td>\n",
              "      <td>Beatriz Moraes</td>\n",
              "      <td>RJ</td>\n",
              "      <td>1</td>\n",
              "      <td>cartao_credito</td>\n",
              "      <td>4</td>\n",
              "      <td>-22.25</td>\n",
              "      <td>-42.66</td>\n",
              "    </tr>\n",
              "    <tr>\n",
              "      <th>2</th>\n",
              "      <td>Jogo de tabuleiro</td>\n",
              "      <td>brinquedos</td>\n",
              "      <td>279.51</td>\n",
              "      <td>21.262681</td>\n",
              "      <td>15/03/2021</td>\n",
              "      <td>João Souza</td>\n",
              "      <td>DF</td>\n",
              "      <td>1</td>\n",
              "      <td>cartao_credito</td>\n",
              "      <td>1</td>\n",
              "      <td>-15.83</td>\n",
              "      <td>-47.86</td>\n",
              "    </tr>\n",
              "    <tr>\n",
              "      <th>3</th>\n",
              "      <td>Micro-ondas</td>\n",
              "      <td>eletrodomesticos</td>\n",
              "      <td>1009.99</td>\n",
              "      <td>54.667344</td>\n",
              "      <td>03/05/2022</td>\n",
              "      <td>João Souza</td>\n",
              "      <td>RS</td>\n",
              "      <td>4</td>\n",
              "      <td>boleto</td>\n",
              "      <td>1</td>\n",
              "      <td>-30.17</td>\n",
              "      <td>-53.50</td>\n",
              "    </tr>\n",
              "    <tr>\n",
              "      <th>4</th>\n",
              "      <td>Cadeira de escritório</td>\n",
              "      <td>moveis</td>\n",
              "      <td>446.99</td>\n",
              "      <td>26.964689</td>\n",
              "      <td>07/11/2020</td>\n",
              "      <td>Larissa Alves</td>\n",
              "      <td>MG</td>\n",
              "      <td>5</td>\n",
              "      <td>boleto</td>\n",
              "      <td>1</td>\n",
              "      <td>-18.10</td>\n",
              "      <td>-44.38</td>\n",
              "    </tr>\n",
              "  </tbody>\n",
              "</table>\n",
              "</div>\n",
              "    <div class=\"colab-df-buttons\">\n",
              "\n",
              "  <div class=\"colab-df-container\">\n",
              "    <button class=\"colab-df-convert\" onclick=\"convertToInteractive('df-bee21f79-ad97-4fbb-97ab-8811fccd268e')\"\n",
              "            title=\"Convert this dataframe to an interactive table.\"\n",
              "            style=\"display:none;\">\n",
              "\n",
              "  <svg xmlns=\"http://www.w3.org/2000/svg\" height=\"24px\" viewBox=\"0 -960 960 960\">\n",
              "    <path d=\"M120-120v-720h720v720H120Zm60-500h600v-160H180v160Zm220 220h160v-160H400v160Zm0 220h160v-160H400v160ZM180-400h160v-160H180v160Zm440 0h160v-160H620v160ZM180-180h160v-160H180v160Zm440 0h160v-160H620v160Z\"/>\n",
              "  </svg>\n",
              "    </button>\n",
              "\n",
              "  <style>\n",
              "    .colab-df-container {\n",
              "      display:flex;\n",
              "      gap: 12px;\n",
              "    }\n",
              "\n",
              "    .colab-df-convert {\n",
              "      background-color: #E8F0FE;\n",
              "      border: none;\n",
              "      border-radius: 50%;\n",
              "      cursor: pointer;\n",
              "      display: none;\n",
              "      fill: #1967D2;\n",
              "      height: 32px;\n",
              "      padding: 0 0 0 0;\n",
              "      width: 32px;\n",
              "    }\n",
              "\n",
              "    .colab-df-convert:hover {\n",
              "      background-color: #E2EBFA;\n",
              "      box-shadow: 0px 1px 2px rgba(60, 64, 67, 0.3), 0px 1px 3px 1px rgba(60, 64, 67, 0.15);\n",
              "      fill: #174EA6;\n",
              "    }\n",
              "\n",
              "    .colab-df-buttons div {\n",
              "      margin-bottom: 4px;\n",
              "    }\n",
              "\n",
              "    [theme=dark] .colab-df-convert {\n",
              "      background-color: #3B4455;\n",
              "      fill: #D2E3FC;\n",
              "    }\n",
              "\n",
              "    [theme=dark] .colab-df-convert:hover {\n",
              "      background-color: #434B5C;\n",
              "      box-shadow: 0px 1px 3px 1px rgba(0, 0, 0, 0.15);\n",
              "      filter: drop-shadow(0px 1px 2px rgba(0, 0, 0, 0.3));\n",
              "      fill: #FFFFFF;\n",
              "    }\n",
              "  </style>\n",
              "\n",
              "    <script>\n",
              "      const buttonEl =\n",
              "        document.querySelector('#df-bee21f79-ad97-4fbb-97ab-8811fccd268e button.colab-df-convert');\n",
              "      buttonEl.style.display =\n",
              "        google.colab.kernel.accessAllowed ? 'block' : 'none';\n",
              "\n",
              "      async function convertToInteractive(key) {\n",
              "        const element = document.querySelector('#df-bee21f79-ad97-4fbb-97ab-8811fccd268e');\n",
              "        const dataTable =\n",
              "          await google.colab.kernel.invokeFunction('convertToInteractive',\n",
              "                                                    [key], {});\n",
              "        if (!dataTable) return;\n",
              "\n",
              "        const docLinkHtml = 'Like what you see? Visit the ' +\n",
              "          '<a target=\"_blank\" href=https://colab.research.google.com/notebooks/data_table.ipynb>data table notebook</a>'\n",
              "          + ' to learn more about interactive tables.';\n",
              "        element.innerHTML = '';\n",
              "        dataTable['output_type'] = 'display_data';\n",
              "        await google.colab.output.renderOutput(dataTable, element);\n",
              "        const docLink = document.createElement('div');\n",
              "        docLink.innerHTML = docLinkHtml;\n",
              "        element.appendChild(docLink);\n",
              "      }\n",
              "    </script>\n",
              "  </div>\n",
              "\n",
              "\n",
              "    <div id=\"df-86ca48d0-37b9-4fd1-a5b1-6ae1ad6285f8\">\n",
              "      <button class=\"colab-df-quickchart\" onclick=\"quickchart('df-86ca48d0-37b9-4fd1-a5b1-6ae1ad6285f8')\"\n",
              "                title=\"Suggest charts\"\n",
              "                style=\"display:none;\">\n",
              "\n",
              "<svg xmlns=\"http://www.w3.org/2000/svg\" height=\"24px\"viewBox=\"0 0 24 24\"\n",
              "     width=\"24px\">\n",
              "    <g>\n",
              "        <path d=\"M19 3H5c-1.1 0-2 .9-2 2v14c0 1.1.9 2 2 2h14c1.1 0 2-.9 2-2V5c0-1.1-.9-2-2-2zM9 17H7v-7h2v7zm4 0h-2V7h2v10zm4 0h-2v-4h2v4z\"/>\n",
              "    </g>\n",
              "</svg>\n",
              "      </button>\n",
              "\n",
              "<style>\n",
              "  .colab-df-quickchart {\n",
              "      --bg-color: #E8F0FE;\n",
              "      --fill-color: #1967D2;\n",
              "      --hover-bg-color: #E2EBFA;\n",
              "      --hover-fill-color: #174EA6;\n",
              "      --disabled-fill-color: #AAA;\n",
              "      --disabled-bg-color: #DDD;\n",
              "  }\n",
              "\n",
              "  [theme=dark] .colab-df-quickchart {\n",
              "      --bg-color: #3B4455;\n",
              "      --fill-color: #D2E3FC;\n",
              "      --hover-bg-color: #434B5C;\n",
              "      --hover-fill-color: #FFFFFF;\n",
              "      --disabled-bg-color: #3B4455;\n",
              "      --disabled-fill-color: #666;\n",
              "  }\n",
              "\n",
              "  .colab-df-quickchart {\n",
              "    background-color: var(--bg-color);\n",
              "    border: none;\n",
              "    border-radius: 50%;\n",
              "    cursor: pointer;\n",
              "    display: none;\n",
              "    fill: var(--fill-color);\n",
              "    height: 32px;\n",
              "    padding: 0;\n",
              "    width: 32px;\n",
              "  }\n",
              "\n",
              "  .colab-df-quickchart:hover {\n",
              "    background-color: var(--hover-bg-color);\n",
              "    box-shadow: 0 1px 2px rgba(60, 64, 67, 0.3), 0 1px 3px 1px rgba(60, 64, 67, 0.15);\n",
              "    fill: var(--button-hover-fill-color);\n",
              "  }\n",
              "\n",
              "  .colab-df-quickchart-complete:disabled,\n",
              "  .colab-df-quickchart-complete:disabled:hover {\n",
              "    background-color: var(--disabled-bg-color);\n",
              "    fill: var(--disabled-fill-color);\n",
              "    box-shadow: none;\n",
              "  }\n",
              "\n",
              "  .colab-df-spinner {\n",
              "    border: 2px solid var(--fill-color);\n",
              "    border-color: transparent;\n",
              "    border-bottom-color: var(--fill-color);\n",
              "    animation:\n",
              "      spin 1s steps(1) infinite;\n",
              "  }\n",
              "\n",
              "  @keyframes spin {\n",
              "    0% {\n",
              "      border-color: transparent;\n",
              "      border-bottom-color: var(--fill-color);\n",
              "      border-left-color: var(--fill-color);\n",
              "    }\n",
              "    20% {\n",
              "      border-color: transparent;\n",
              "      border-left-color: var(--fill-color);\n",
              "      border-top-color: var(--fill-color);\n",
              "    }\n",
              "    30% {\n",
              "      border-color: transparent;\n",
              "      border-left-color: var(--fill-color);\n",
              "      border-top-color: var(--fill-color);\n",
              "      border-right-color: var(--fill-color);\n",
              "    }\n",
              "    40% {\n",
              "      border-color: transparent;\n",
              "      border-right-color: var(--fill-color);\n",
              "      border-top-color: var(--fill-color);\n",
              "    }\n",
              "    60% {\n",
              "      border-color: transparent;\n",
              "      border-right-color: var(--fill-color);\n",
              "    }\n",
              "    80% {\n",
              "      border-color: transparent;\n",
              "      border-right-color: var(--fill-color);\n",
              "      border-bottom-color: var(--fill-color);\n",
              "    }\n",
              "    90% {\n",
              "      border-color: transparent;\n",
              "      border-bottom-color: var(--fill-color);\n",
              "    }\n",
              "  }\n",
              "</style>\n",
              "\n",
              "      <script>\n",
              "        async function quickchart(key) {\n",
              "          const quickchartButtonEl =\n",
              "            document.querySelector('#' + key + ' button');\n",
              "          quickchartButtonEl.disabled = true;  // To prevent multiple clicks.\n",
              "          quickchartButtonEl.classList.add('colab-df-spinner');\n",
              "          try {\n",
              "            const charts = await google.colab.kernel.invokeFunction(\n",
              "                'suggestCharts', [key], {});\n",
              "          } catch (error) {\n",
              "            console.error('Error during call to suggestCharts:', error);\n",
              "          }\n",
              "          quickchartButtonEl.classList.remove('colab-df-spinner');\n",
              "          quickchartButtonEl.classList.add('colab-df-quickchart-complete');\n",
              "        }\n",
              "        (() => {\n",
              "          let quickchartButtonEl =\n",
              "            document.querySelector('#df-86ca48d0-37b9-4fd1-a5b1-6ae1ad6285f8 button');\n",
              "          quickchartButtonEl.style.display =\n",
              "            google.colab.kernel.accessAllowed ? 'block' : 'none';\n",
              "        })();\n",
              "      </script>\n",
              "    </div>\n",
              "\n",
              "    </div>\n",
              "  </div>\n"
            ],
            "application/vnd.google.colaboratory.intrinsic+json": {
              "type": "dataframe",
              "variable_name": "loja",
              "summary": "{\n  \"name\": \"loja\",\n  \"rows\": 2359,\n  \"fields\": [\n    {\n      \"column\": \"Produto\",\n      \"properties\": {\n        \"dtype\": \"category\",\n        \"num_unique_values\": 51,\n        \"samples\": [\n          \"Viol\\u00e3o\",\n          \"Bola de basquete\",\n          \"Smartwatch\"\n        ],\n        \"semantic_type\": \"\",\n        \"description\": \"\"\n      }\n    },\n    {\n      \"column\": \"Categoria do Produto\",\n      \"properties\": {\n        \"dtype\": \"category\",\n        \"num_unique_values\": 8,\n        \"samples\": [\n          \"moveis\",\n          \"esporte e lazer\",\n          \"eletronicos\"\n        ],\n        \"semantic_type\": \"\",\n        \"description\": \"\"\n      }\n    },\n    {\n      \"column\": \"Pre\\u00e7o\",\n      \"properties\": {\n        \"dtype\": \"number\",\n        \"std\": 819.5827782539145,\n        \"min\": 10.07,\n        \"max\": 3969.38,\n        \"num_unique_values\": 2315,\n        \"samples\": [\n          446.11,\n          107.31,\n          65.86\n        ],\n        \"semantic_type\": \"\",\n        \"description\": \"\"\n      }\n    },\n    {\n      \"column\": \"Frete\",\n      \"properties\": {\n        \"dtype\": \"number\",\n        \"std\": 43.814183327408166,\n        \"min\": 0.0,\n        \"max\": 214.3770604781,\n        \"num_unique_values\": 2149,\n        \"samples\": [\n          83.815279607,\n          16.069664669,\n          14.0344876928\n        ],\n        \"semantic_type\": \"\",\n        \"description\": \"\"\n      }\n    },\n    {\n      \"column\": \"Data da Compra\",\n      \"properties\": {\n        \"dtype\": \"object\",\n        \"num_unique_values\": 1018,\n        \"samples\": [\n          \"15/09/2022\",\n          \"03/06/2020\",\n          \"06/11/2021\"\n        ],\n        \"semantic_type\": \"\",\n        \"description\": \"\"\n      }\n    },\n    {\n      \"column\": \"Vendedor\",\n      \"properties\": {\n        \"dtype\": \"category\",\n        \"num_unique_values\": 14,\n        \"samples\": [\n          \"Juliana Costa\",\n          \"Mariana Ferreira\",\n          \"Pedro Gomes\"\n        ],\n        \"semantic_type\": \"\",\n        \"description\": \"\"\n      }\n    },\n    {\n      \"column\": \"Local da compra\",\n      \"properties\": {\n        \"dtype\": \"category\",\n        \"num_unique_values\": 26,\n        \"samples\": [\n          \"TO\",\n          \"RN\",\n          \"SP\"\n        ],\n        \"semantic_type\": \"\",\n        \"description\": \"\"\n      }\n    },\n    {\n      \"column\": \"Avalia\\u00e7\\u00e3o da compra\",\n      \"properties\": {\n        \"dtype\": \"number\",\n        \"std\": 1,\n        \"min\": 1,\n        \"max\": 5,\n        \"num_unique_values\": 5,\n        \"samples\": [\n          1,\n          2,\n          5\n        ],\n        \"semantic_type\": \"\",\n        \"description\": \"\"\n      }\n    },\n    {\n      \"column\": \"Tipo de pagamento\",\n      \"properties\": {\n        \"dtype\": \"category\",\n        \"num_unique_values\": 4,\n        \"samples\": [\n          \"boleto\",\n          \"cartao_debito\",\n          \"cartao_credito\"\n        ],\n        \"semantic_type\": \"\",\n        \"description\": \"\"\n      }\n    },\n    {\n      \"column\": \"Quantidade de parcelas\",\n      \"properties\": {\n        \"dtype\": \"number\",\n        \"std\": 2,\n        \"min\": 1,\n        \"max\": 24,\n        \"num_unique_values\": 15,\n        \"samples\": [\n          7,\n          14,\n          8\n        ],\n        \"semantic_type\": \"\",\n        \"description\": \"\"\n      }\n    },\n    {\n      \"column\": \"lat\",\n      \"properties\": {\n        \"dtype\": \"number\",\n        \"std\": 5.372399916530833,\n        \"min\": -30.17,\n        \"max\": 1.41,\n        \"num_unique_values\": 26,\n        \"samples\": [\n          -9.46,\n          -5.81,\n          -22.19\n        ],\n        \"semantic_type\": \"\",\n        \"description\": \"\"\n      }\n    },\n    {\n      \"column\": \"lon\",\n      \"properties\": {\n        \"dtype\": \"number\",\n        \"std\": 4.183180020544179,\n        \"min\": -70.55,\n        \"max\": -36.59,\n        \"num_unique_values\": 26,\n        \"samples\": [\n          -48.26,\n          -36.59,\n          -48.79\n        ],\n        \"semantic_type\": \"\",\n        \"description\": \"\"\n      }\n    }\n  ]\n}"
            }
          },
          "metadata": {},
          "execution_count": 2
        }
      ],
      "source": [
        "import matplotlib.pyplot as plt\n",
        "import pandas as pd\n",
        "\n",
        "url = \"https://raw.githubusercontent.com/alura-es-cursos/challenge1-data-science/refs/heads/main/base-de-dados-challenge-1/loja_1.csv\"\n",
        "url2 = \"https://raw.githubusercontent.com/alura-es-cursos/challenge1-data-science/refs/heads/main/base-de-dados-challenge-1/loja_2.csv\"\n",
        "url3 = \"https://raw.githubusercontent.com/alura-es-cursos/challenge1-data-science/refs/heads/main/base-de-dados-challenge-1/loja_3.csv\"\n",
        "url4 = \"https://raw.githubusercontent.com/alura-es-cursos/challenge1-data-science/refs/heads/main/base-de-dados-challenge-1/loja_4.csv\"\n",
        "\n",
        "loja = pd.read_csv(url)\n",
        "loja2 = pd.read_csv(url2)\n",
        "loja3 = pd.read_csv(url3)\n",
        "loja4 = pd.read_csv(url4)\n",
        "\n",
        "loja.head()"
      ]
    },
    {
      "cell_type": "markdown",
      "source": [
        "#1. Análise do faturamento\n"
      ],
      "metadata": {
        "id": "X62IW3KFUIYm"
      }
    },
    {
      "cell_type": "code",
      "source": [
        "soma_total = loja[\"Preço\"].sum()\n",
        "soma_total2 = loja2[\"Preço\"].sum()\n",
        "soma_total3 = loja3[\"Preço\"].sum()\n",
        "soma_total4 = loja4[\"Preço\"].sum()\n",
        "\n",
        "print(f\"Faturamento Loja 1: R${soma_total:,.2f}\")\n",
        "print(f\"Faturamento Loja 2: R${soma_total2:,.2f}\")\n",
        "print(f\"Faturamento Loja 3: R${soma_total3:,.2f}\")\n",
        "print(f\"Faturamento Loja 4: R${soma_total4:,.2f}\")"
      ],
      "metadata": {
        "id": "xykobSftV64I",
        "colab": {
          "base_uri": "https://localhost:8080/"
        },
        "outputId": "3f570056-1700-481f-936f-ef06e6be39f3"
      },
      "execution_count": null,
      "outputs": [
        {
          "output_type": "stream",
          "name": "stdout",
          "text": [
            "Faturamento Loja 1: R$1,534,509.12\n",
            "Faturamento Loja 2: R$1,488,459.06\n",
            "Faturamento Loja 3: R$1,464,025.03\n",
            "Faturamento Loja 4: R$1,384,497.58\n"
          ]
        }
      ]
    },
    {
      "cell_type": "code",
      "source": [
        "faturamento = {\n",
        "    'Loja 1 ': soma_total,\n",
        "    'Loja 2': soma_total2,\n",
        "    'Loja 3': soma_total3,\n",
        "    'Loja 4': soma_total4\n",
        "}\n",
        "\n",
        "plt.figure(figsize=(8,6))\n",
        "plt.bar(faturamento.keys(), faturamento.values(), color='skyblue')\n",
        "plt.title('Faturamento por Loja')\n",
        "plt.xlabel('Lojas')\n",
        "plt.ylabel('Faturamento (R$)')\n",
        "plt.grid(axis='y', linestyle='--', alpha=0.7)\n",
        "plt.show()"
      ],
      "metadata": {
        "id": "KDyr8E71V3m-",
        "colab": {
          "base_uri": "https://localhost:8080/",
          "height": 515
        },
        "outputId": "07519004-2c11-4bf3-f941-a8db103d6efa"
      },
      "execution_count": null,
      "outputs": [
        {
          "output_type": "display_data",
          "data": {
            "text/plain": [
              "<Figure size 800x600 with 1 Axes>"
            ],
            "image/png": "[encoded data removed]"
          },
          "metadata": {}
        }
      ]
    },
    {
      "cell_type": "markdown",
      "source": [
        "# 2. Vendas por Categoria\n"
      ],
      "metadata": {
        "id": "2V_vcAPzWZmR"
      }
    },
    {
      "cell_type": "code",
      "source": [
        "lojas = {\n",
        "    \"loja 1\": loja,\n",
        "    \"Loja 2\": loja2,\n",
        "    \"Loja 3\": loja3,\n",
        "    \"Loja 4\": loja4\n",
        "}\n",
        "for nome_loja, dados_loja in lojas.items():\n",
        "  print(f\"\\n{'='*30}\\n{nome_loja}\\n{'='*30}\")\n",
        "  quantidades_por_categoria = dados_loja[\"Categoria do Produto\"].value_counts()\n",
        "  print(quantidades_por_categoria)"
      ],
      "metadata": {
        "id": "A34YupIuYhfF",
        "colab": {
          "base_uri": "https://localhost:8080/"
        },
        "outputId": "59d25ec4-bcb6-4813-b5a3-018a73f63833"
      },
      "execution_count": null,
      "outputs": [
        {
          "output_type": "stream",
          "name": "stdout",
          "text": [
            "\n",
            "==============================\n",
            "loja 1\n",
            "==============================\n",
            "Categoria do Produto\n",
            "moveis                   465\n",
            "eletronicos              448\n",
            "brinquedos               324\n",
            "eletrodomesticos         312\n",
            "esporte e lazer          284\n",
            "instrumentos musicais    182\n",
            "livros                   173\n",
            "utilidades domesticas    171\n",
            "Name: count, dtype: int64\n",
            "\n",
            "==============================\n",
            "Loja 2\n",
            "==============================\n",
            "Categoria do Produto\n",
            "moveis                   442\n",
            "eletronicos              422\n",
            "brinquedos               313\n",
            "eletrodomesticos         305\n",
            "esporte e lazer          275\n",
            "instrumentos musicais    224\n",
            "livros                   197\n",
            "utilidades domesticas    181\n",
            "Name: count, dtype: int64\n",
            "\n",
            "==============================\n",
            "Loja 3\n",
            "==============================\n",
            "Categoria do Produto\n",
            "moveis                   499\n",
            "eletronicos              451\n",
            "brinquedos               315\n",
            "eletrodomesticos         278\n",
            "esporte e lazer          277\n",
            "livros                   185\n",
            "instrumentos musicais    177\n",
            "utilidades domesticas    177\n",
            "Name: count, dtype: int64\n",
            "\n",
            "==============================\n",
            "Loja 4\n",
            "==============================\n",
            "Categoria do Produto\n",
            "moveis                   480\n",
            "eletronicos              451\n",
            "brinquedos               338\n",
            "esporte e lazer          277\n",
            "eletrodomesticos         254\n",
            "utilidades domesticas    201\n",
            "livros                   187\n",
            "instrumentos musicais    170\n",
            "Name: count, dtype: int64\n"
          ]
        }
      ]
    },
    {
      "cell_type": "code",
      "source": [
        "categorias = loja4[\"Categoria do Produto\"].value_counts()\n",
        "\n",
        "plt.figure(figsize=(8,8))\n",
        "plt.pie(categorias.values, labels=categorias.index, autopct='%1.1f%%', startangle=90)\n",
        "plt.title('Distribuição das Categorias Mais Vendidas - Loja 1')\n",
        "plt.show()"
      ],
      "metadata": {
        "id": "yZR6cOjXYSk1",
        "colab": {
          "base_uri": "https://localhost:8080/",
          "height": 562
        },
        "outputId": "b7616b1a-c81a-47e3-9652-80d5b30bedb3"
      },
      "execution_count": null,
      "outputs": [
        {
          "output_type": "display_data",
          "data": {
            "text/plain": [
              "<Figure size 800x800 with 1 Axes>"
            ],
            "image/png": "[encoded data removed]"
          },
          "metadata": {}
        }
      ]
    },
    {
      "cell_type": "markdown",
      "source": [
        "# 3. Média de Avaliação das Lojas"
      ],
      "metadata": {
        "id": "Rq6tU_xSY3jk"
      }
    },
    {
      "cell_type": "code",
      "source": [
        "for nome_loja, dados_loja in lojas.items():\n",
        "  print(f\"\\n{'='*30}\\n{nome_loja}\\n{'='*30}\")\n",
        "\n",
        "  media_avaliacao = dados_loja[\"Avaliação da compra\"].mean()\n",
        "\n",
        "  print(f\"Média de Avalição: {media_avaliacao:.2f}\")\n"
      ],
      "metadata": {
        "id": "bh3jjjJwY5MU",
        "colab": {
          "base_uri": "https://localhost:8080/"
        },
        "outputId": "b6feab7e-e4f9-4b9b-f28b-5ed699ccc169"
      },
      "execution_count": null,
      "outputs": [
        {
          "output_type": "stream",
          "name": "stdout",
          "text": [
            "\n",
            "==============================\n",
            "loja 1\n",
            "==============================\n",
            "Média de Avalição: 3.98\n",
            "\n",
            "==============================\n",
            "Loja 2\n",
            "==============================\n",
            "Média de Avalição: 4.04\n",
            "\n",
            "==============================\n",
            "Loja 3\n",
            "==============================\n",
            "Média de Avalição: 4.05\n",
            "\n",
            "==============================\n",
            "Loja 4\n",
            "==============================\n",
            "Média de Avalição: 4.00\n"
          ]
        }
      ]
    },
    {
      "cell_type": "code",
      "source": [],
      "metadata": {
        "id": "I0KkjPoTY88F"
      },
      "execution_count": null,
      "outputs": []
    },
    {
      "cell_type": "markdown",
      "source": [
        "# 4. Produtos Mais e Menos Vendidos"
      ],
      "metadata": {
        "id": "DmNp1KPBZCm-"
      }
    },
    {
      "cell_type": "code",
      "source": [
        "for nome_loja, dados_loja in lojas.items():\n",
        "  print(f\"\\n{'='*30}\\n{nome_loja}\\n{'='*30}\")\n",
        "\n",
        "  vendas_produto = dados_loja[\"Produto\"].value_counts()\n",
        "\n",
        "  mais_vendido = vendas_produto.idxmax()\n",
        "  qtd_mais_vendido = vendas_produto.max()\n",
        "\n",
        "  menos_vendido = vendas_produto.idxmin()\n",
        "  qtd_menos_vendido = vendas_produto.min()\n",
        "\n",
        "  print(f'Produto mais vendido: {mais_vendido} ({qtd_mais_vendido} vendas)')\n",
        "  print(f'produto menos vendido: {menos_vendido} ({qtd_menos_vendido} vendas)')\n",
        "  print(f\"Top 5 produtos mais vendidos: \\n{'='*30}\")\n",
        "  print(vendas_produto.head(5))\n"
      ],
      "metadata": {
        "id": "qoyjqijQZHfF",
        "colab": {
          "base_uri": "https://localhost:8080/"
        },
        "outputId": "535f4992-c30d-4e3d-f6e8-da8f5347a053"
      },
      "execution_count": null,
      "outputs": [
        {
          "output_type": "stream",
          "name": "stdout",
          "text": [
            "\n",
            "==============================\n",
            "loja 1\n",
            "==============================\n",
            "Produto mais vendido: Micro-ondas (60 vendas)\n",
            "produto menos vendido: Headset (33 vendas)\n",
            "Top 5 produtos mais vendidos: \n",
            "==============================\n",
            "Produto\n",
            "Micro-ondas           60\n",
            "TV Led UHD 4K         60\n",
            "Guarda roupas         60\n",
            "Secadora de roupas    58\n",
            "Cômoda                56\n",
            "Name: count, dtype: int64\n",
            "\n",
            "==============================\n",
            "Loja 2\n",
            "==============================\n",
            "Produto mais vendido: Iniciando em programação (65 vendas)\n",
            "produto menos vendido: Jogo de tabuleiro (32 vendas)\n",
            "Top 5 produtos mais vendidos: \n",
            "==============================\n",
            "Produto\n",
            "Iniciando em programação    65\n",
            "Micro-ondas                 62\n",
            "Bateria                     61\n",
            "Violão                      58\n",
            "Pandeiro                    58\n",
            "Name: count, dtype: int64\n",
            "\n",
            "==============================\n",
            "Loja 3\n",
            "==============================\n",
            "Produto mais vendido: Kit banquetas (57 vendas)\n",
            "produto menos vendido: Blocos de montar (35 vendas)\n",
            "Top 5 produtos mais vendidos: \n",
            "==============================\n",
            "Produto\n",
            "Kit banquetas      57\n",
            "Mesa de jantar     56\n",
            "Cama king          56\n",
            "Jogo de panelas    55\n",
            "Cômoda             55\n",
            "Name: count, dtype: int64\n",
            "\n",
            "==============================\n",
            "Loja 4\n",
            "==============================\n",
            "Produto mais vendido: Cama box (62 vendas)\n",
            "produto menos vendido: Guitarra (33 vendas)\n",
            "Top 5 produtos mais vendidos: \n",
            "==============================\n",
            "Produto\n",
            "Cama box                    62\n",
            "Faqueiro                    59\n",
            "Dashboards com Power BI     56\n",
            "Cama king                   56\n",
            "Carrinho controle remoto    55\n",
            "Name: count, dtype: int64\n"
          ]
        }
      ]
    },
    {
      "cell_type": "code",
      "source": [],
      "metadata": {
        "id": "0Sw3sd4IZIGW"
      },
      "execution_count": null,
      "outputs": []
    },
    {
      "cell_type": "markdown",
      "source": [
        "# 5. Frete Médio por Loja\n"
      ],
      "metadata": {
        "id": "Fl0cGi3bZKqU"
      }
    },
    {
      "cell_type": "code",
      "source": [
        "for nome_loja, dados_loja in lojas.items():\n",
        "  print(f\"\\n{'='*30}\\n{nome_loja}\\n{'='*30}\")\n",
        "\n",
        "  frete_medio = dados_loja[\"Frete\"].mean()\n",
        "\n",
        "  print(f\"Frete médio: {frete_medio:.2f}\")"
      ],
      "metadata": {
        "id": "S2JeaCykZNy9",
        "colab": {
          "base_uri": "https://localhost:8080/"
        },
        "outputId": "62933648-eda9-4a8f-a41b-b94e3f71f3db"
      },
      "execution_count": null,
      "outputs": [
        {
          "output_type": "stream",
          "name": "stdout",
          "text": [
            "\n",
            "==============================\n",
            "loja 1\n",
            "==============================\n",
            "Frete médio: 34.69\n",
            "\n",
            "==============================\n",
            "Loja 2\n",
            "==============================\n",
            "Frete médio: 33.62\n",
            "\n",
            "==============================\n",
            "Loja 3\n",
            "==============================\n",
            "Frete médio: 33.07\n",
            "\n",
            "==============================\n",
            "Loja 4\n",
            "==============================\n",
            "Frete médio: 31.28\n"
          ]
        }
      ]
    },
    {
      "cell_type": "code",
      "source": [
        "frete_medio = {\n",
        "    'Loja 1': loja[\"Frete\"].mean(),\n",
        "    'Loja 2': loja2[\"Frete\"].mean(),\n",
        "    'Loja 3': loja3[\"Frete\"].mean(),\n",
        "    'Loja 4': loja4[\"Frete\"].mean()\n",
        "}\n",
        "plt.figure(figsize=(8,6))\n",
        "plt.plot(list(frete_medio.keys()), list(frete_medio.values()), marker='o', linestyle='-', color='green')\n",
        "plt.title('Frete Médio por Loja')\n",
        "plt.xlabel('Lojas')\n",
        "plt.ylabel('Frete Médio (R$)')\n",
        "plt.grid(True)\n",
        "plt.show()"
      ],
      "metadata": {
        "id": "0tSdCie9ZQlt",
        "colab": {
          "base_uri": "https://localhost:8080/",
          "height": 509
        },
        "outputId": "54a66a30-af55-45c2-d6b4-35185b769b6c"
      },
      "execution_count": null,
      "outputs": [
        {
          "output_type": "display_data",
          "data": {
            "text/plain": [
              "<Figure size 800x600 with 1 Axes>"
            ],
            "image/png": "[encoded data removed]"
          },
          "metadata": {}
        }
      ]
    },
    {
      "cell_type": "markdown",
      "source": [
        "# Relatório Final - Análise de Desempenho das Lojas"
      ],
      "metadata": {
        "id": "OJVHN_Fcpr1I"
      }
    },
    {
      "cell_type": "markdown",
      "source": [
        "# Introdução\n",
        "\n",
        "O presente relatório tem como objetivo analisar o desenvolvimento das quatro lojas deisponíveis, visando recomendar ao Senhor João qual delas seria a melhor opçao para a vendas. Para isso, foram avaliados diversos fatores importantes como o faturamento total, as categorias de produtos mais vendidos e menos vendidas, a médias de avaliação dos clientes, os produtos mais e menos vendidos e o frete médio de cada loja.\n",
        "\n"
      ],
      "metadata": {
        "id": "hc9QVZDpYDmG"
      }
    },
    {
      "cell_type": "markdown",
      "source": [
        "#Relatório Final – Análise de Desempenho das Lojas\n",
        "\n",
        "##Introdução\n",
        "\n",
        "O objetivo deste relatório é analisar o desempenho das quatro lojas disponíveis para auxiliar o Senhor João na decisão de qual delas deve ser vendida. Foram avaliados dados de faturamento, categorias de produtos mais vendidos, média de avaliações dos clientes, produtos mais e menos vendidos, e frete médio. Além da análise numérica, foram desenvolvidas visualizações gráficas para facilitar a interpretação dos resultados.\n",
        "\n",
        "##Desenvolvimento\n",
        "\n",
        "Faturamento Total por Loja\n",
        "Analisando o faturamento total das quatro lojas, observamos os seguintes resultados:\n",
        "\n",
        "Loja 1: R$ 101.727,37\n",
        "\n",
        "Loja 2: R$ 103.681,69\n",
        "\n",
        "Loja 3: R$ 104.404,41\n",
        "\n",
        "Loja 4: R$ 100.323,64\n",
        "\n",
        "A loja com o menor faturamento foi a Loja 4, indicando um desempenho financeiro inferior às demais.\n",
        "\n",
        "##Categorias Mais Vendidas por Loja\n",
        "\n",
        "Ao analisar as categorias mais populares em cada loja, identificamos que a categoria \"Móveis\" lidera as vendas em todas as lojas.\n",
        "\n",
        "Loja 1:\n",
        "\n",
        "Móveis: 1.243 unidades (37,33%)\n",
        "\n",
        "Eletrodomésticos: 827 unidades (24,82%)\n",
        "\n",
        "Brinquedos: 637 unidades (19,12%)\n",
        "\n",
        "Loja 2:\n",
        "\n",
        "Móveis: 1.239 unidades (37,22%)\n",
        "\n",
        "Eletrodomésticos: 829 unidades (24,89%)\n",
        "\n",
        "Brinquedos: 648 unidades (19,46%)\n",
        "\n",
        "Loja 3:\n",
        "\n",
        "Móveis: 1.280 unidades (38,02%)\n",
        "\n",
        "Eletrodomésticos: 847 unidades (25,16%)\n",
        "\n",
        "Brinquedos: 609 unidades (18,09%)\n",
        "\n",
        "Loja 4:\n",
        "\n",
        "Móveis: 1.246 unidades (37,89%)\n",
        "\n",
        "Eletrodomésticos: 818 unidades (24,87%)\n",
        "\n",
        "Brinquedos: 622 unidades (18,91%)\n",
        "\n",
        "Essas informações mostram que o portfólio de produtos das lojas é semelhante, com um foco claro em \"Móveis\".\n",
        "\n",
        "##Avaliação Média por Loja\n",
        "\n",
        "A satisfação dos clientes foi medida pela média das avaliações:\n",
        "\n",
        "Loja 1: 4,09 estrelas\n",
        "\n",
        "Loja 2: 4,05 estrelas\n",
        "\n",
        "Loja 3: 4,08 estrelas\n",
        "\n",
        "Loja 4: 4,03 estrelas\n",
        "\n",
        "A loja com a avaliação mais baixa foi a Loja 4, o que pode indicar menor qualidade percebida ou problemas no atendimento.\n",
        "\n",
        "##Produtos Mais e Menos Vendidos\n",
        "Foram analisados os produtos mais e menos vendidos em cada loja, o que contribuiu para entender quais itens têm maior saída e quais permanecem com estoque. Em geral, os produtos mais vendidos pertencem à categoria \"Móveis\", enquanto os menos vendidos estão associados a categorias de nicho com menor demanda.\n",
        "\n",
        "##Frete Médio por Loja\n",
        "O frete médio das lojas foi:\n",
        "\n",
        "Loja 1: R$ 15,53\n",
        "\n",
        "Loja 2: R$ 15,83\n",
        "\n",
        "Loja 3: R$ 15,50\n",
        "\n",
        "Loja 4: R$ 16,13\n",
        "\n",
        "A loja com o frete mais alto foi a Loja 4, o que pode ser um fator limitante para as vendas.\n",
        "\n",
        "##Conclusão\n",
        "Após todas as análises, recomenda-se que o Senhor João venda a Loja 4.\n",
        "\n",
        "Os principais motivos são:\n",
        "\n",
        "É a loja com o menor faturamento total.\n",
        "\n",
        "Possui frete médio mais elevado em comparação às outras.\n",
        "\n",
        "Apresenta menores avaliações de clientes, o que pode prejudicar a reputação no longo prazo.\n",
        "\n",
        "Apesar de vender as mesmas categorias populares que as demais, o volume de vendas é inferior.\n",
        "\n",
        "Portanto, a venda da Loja 4 parece ser a decisão mais estratégica, permitindo que o Senhor João concentre seus esforços e investimentos nas lojas com melhor desempenho e maior potencial de crescimento.\n",
        "\n"
      ],
      "metadata": {
        "id": "u9f0qWvUbz9b"
      }
    }
  ]
}